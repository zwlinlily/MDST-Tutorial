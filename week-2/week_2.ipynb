{
  "nbformat": 4,
  "nbformat_minor": 0,
  "metadata": {
    "colab": {
      "provenance": []
    },
    "kernelspec": {
      "name": "python3",
      "display_name": "Python 3"
    },
    "language_info": {
      "name": "python"
    }
  },
  "cells": [
    {
      "cell_type": "code",
      "source": [
        "import math"
      ],
      "metadata": {
        "id": "QiALmb0nMc6V"
      },
      "execution_count": 1,
      "outputs": []
    },
    {
      "cell_type": "code",
      "execution_count": 11,
      "metadata": {
        "id": "NylQRsyzMX-2"
      },
      "outputs": [],
      "source": [
        "### Expressions ###\n",
        "class expression:\n",
        "    \"\"\"Base expression class. Represents a singular variable, like x.\"\"\"\n",
        "\n",
        "    def __init__(self, name):\n",
        "        \"\"\"Init function.\n",
        "        Args:\n",
        "            Name: name of the variable, like \"x.\"\n",
        "        \"\"\"\n",
        "        self.name = name\n",
        "\n",
        "    def eval(self, values):\n",
        "        \"\"\"Evaluation function, returns value of expression/variable given value parameters.\n",
        "\n",
        "        Args:\n",
        "            values (dict): a dicitonary of variable names:values.\n",
        "\n",
        "        Returns:\n",
        "            float representing value of variable at given evaluation.\n",
        "        \"\"\"\n",
        "        return values[self.name]\n",
        "\n",
        "    def diff(self, values, diffto):\n",
        "        \"\"\"Differentiate variable / expression with the current values.\n",
        "\n",
        "        Args:\n",
        "            values (dict): a dicitonary of variable names:values.\n",
        "            diffto (string): variable with respect to which differentiation happens.\n",
        "\n",
        "        Returns:\n",
        "        \"\"\"\n",
        "\n",
        "        if self.name == diffto:\n",
        "            return constant(1)\n",
        "        else:\n",
        "            return constant(0)\n",
        "\n",
        "    # the following are all overrides: (all other subsequent classes inherit)\n",
        "    def __add__(self, other):\n",
        "        if isinstance(other, (int, float)):\n",
        "            other = constant(other)\n",
        "        return addition(self, other)"
      ]
    },
    {
      "cell_type": "code",
      "source": [
        "class constant(expression):\n",
        "    \"\"\"Constant expression class. Represents a constant value, like 2 or 3.14.\"\"\"\n",
        "\n",
        "    def __init__(self, value):\n",
        "        \"\"\"Init function.\n",
        "        Args:\n",
        "            value: numeric value of the constant.\n",
        "        \"\"\"\n",
        "        self.value = value\n",
        "\n",
        "    def eval(self, values):\n",
        "        \"\"\"Evaluation function, returns the constant value.\n",
        "\n",
        "        Args:\n",
        "            values (dict): a dicitonary of variable names:values (not used for constants).\n",
        "\n",
        "        Returns:\n",
        "            float representing the constant value.\n",
        "        \"\"\"\n",
        "        return self.value\n",
        "\n",
        "    def diff(self, values, diffto):\n",
        "        \"\"\"Differentiate constant with respect to any variable.\n",
        "\n",
        "        Args:\n",
        "            values (dict): a dicitonary of variable names:values (not used).\n",
        "            diffto (string): variable with respect to which differentiation happens (not used).\n",
        "\n",
        "        Returns:\n",
        "        \"\"\"\n",
        "\n",
        "        if self.name == diffto:\n",
        "            return constant(0)\n",
        "        # TODO: Implement diff for constant (hint: what's the derivative of 1 with respect to x?)\n",
        "        pass"
      ],
      "metadata": {
        "id": "qyG0CMQKMgNt"
      },
      "execution_count": 12,
      "outputs": []
    },
    {
      "cell_type": "code",
      "source": [
        "# An example class for the math library\n",
        "class addition(expression):\n",
        "    def __init__(self, first, second):\n",
        "        \"\"\"Addition of two expressions.\n",
        "\n",
        "        Args:\n",
        "            first (expression): an expression\n",
        "            second (expression): another expression\n",
        "        \"\"\"\n",
        "        self.first = first\n",
        "        self.second = second\n",
        "\n",
        "    def eval(self, values):\n",
        "        return self.first.eval(values) + self.second.eval(values)\n",
        "\n",
        "    def diff(self, values, diffto):\n",
        "        return self.first.diff(values, diffto) + self.second.diff(values, diffto)"
      ],
      "metadata": {
        "id": "XyuKH89jMibE"
      },
      "execution_count": 13,
      "outputs": []
    },
    {
      "cell_type": "code",
      "source": [
        "# TODO: Add additional classes derived from the expression class, e.g. subtraction, multiplication, division, and exponent\n",
        "class subtraction(expression):\n",
        "  def __init__(self, first, second):\n",
        "    self.first = first\n",
        "    self.second = second\n",
        "\n",
        "  def eval(self,values):\n",
        "    return self.first.eval(values) - self.second.eval(values)\n",
        "\n",
        "  def diff(self, values, diffto):\n",
        "    return self.first.diff(values, diffto) - self.second.diff(values, diffto)\n",
        "\n",
        "class multiplication(expression):\n",
        "  def __init__(self, first, second):\n",
        "    self.first = first\n",
        "    self.second = second\n",
        "\n",
        "  def eval(self,values):\n",
        "    return self.first.eval(values) * self.second.eval(values)\n",
        "\n",
        "  def diff(self, values, diffto):\n",
        "    return self.first.diff(values, diffto) * self.second.eval(values) + self.first.eval(values) * self.second.diff(values, diffto)\n",
        "\n",
        "class division(expression):\n",
        "  def __init__(self, first, second):\n",
        "    self.first = first\n",
        "    self.second = second\n",
        "\n",
        "  def eval(self,values):\n",
        "    return self.first.eval(values) / self.second.eval(values)\n",
        "\n",
        "  def diff(self, values, diffto):\n",
        "    return (self.second.eval(values) * self.first.diff(values, diffto) - self.first.eval(values) * self.second.diff(values, diffto)) / (self.second.eval(values) ** 2)\n",
        "\n",
        "class exponent(expression):\n",
        "  def __init__(self, first, second):\n",
        "    self.first = first\n",
        "    self.second = second\n",
        "\n",
        "  def eval(self,values):\n",
        "    return self.first.eval(values) ** self.second.eval(values)\n",
        "\n",
        "  def diff(self, values, diffto):\n",
        "    u = self.first\n",
        "    v = self.second\n",
        "    u_x = self.first.diff(values, diffto)\n",
        "    v_x = self.second.diff(values, diffto)\n",
        "    return u ** (v) * (v/u * u_x + math.log(u) * v_x)\n",
        ""
      ],
      "metadata": {
        "id": "XuD3rQspMlUO"
      },
      "execution_count": 14,
      "outputs": []
    }
  ]
}