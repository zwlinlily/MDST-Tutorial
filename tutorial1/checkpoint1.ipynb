{
  "cells": [
    {
      "cell_type": "markdown",
      "metadata": {
        "id": "s9WWZx9vSFXP"
      },
      "source": [
        "# Checkpoint 1"
      ]
    },
    {
      "cell_type": "markdown",
      "metadata": {
        "id": "UkE850NWSFXQ"
      },
      "source": [
        "Reminder:\n",
        "\n",
        "- You are being evaluated for completion and effort in this checkpoint.\n",
        "- Avoid manual labor / hard coding as much as possible, everything we've taught you so far are meant to simplify and automate your process.\n",
        "- Please do not remove any comment that starts with: \"# @@@\"."
      ]
    },
    {
      "cell_type": "markdown",
      "metadata": {
        "id": "UrTsvw1MSFXQ"
      },
      "source": [
        "We will be working with the same `states_edu.csv` that you should already be familiar with from the tutorial.\n",
        "\n",
        "We investigated Grade 8 reading score in the tutorial. For this checkpoint, you are asked to investigate another test. Here's an overview:\n",
        "\n",
        "* Choose a specific response variable to focus on\n",
        ">Grade 4 Math, Grade 4 Reading, Grade 8 Math\n",
        "* Pick or create features to use\n",
        ">Will all the features be useful in predicting test score? Are some more important than others? Should you standardize, bin, or scale the data?\n",
        "* Explore the data as it relates to that test\n",
        ">Create at least 2 visualizations (graphs), each with a caption describing the graph and what it tells us about the data\n",
        "* Create training and testing data\n",
        ">Do you want to train on all the data? Only data from the last 10 years? Only Michigan data?\n",
        "* Train a ML model to predict outcome\n",
        ">Define what you want to predict, and pick a model in sklearn to use (see sklearn <a href=\"https://scikit-learn.org/stable/modules/linear_model.html\">regressors</a>).\n",
        "\n",
        "\n",
        "Include comments throughout your code! Every cleanup and preprocessing task should be documented.\n"
      ]
    },
    {
      "cell_type": "markdown",
      "metadata": {
        "id": "DGKTMP45SFXR"
      },
      "source": []
    },
    {
      "cell_type": "markdown",
      "metadata": {
        "id": "fCzOOOZXSFXR"
      },
      "source": [
        "<h2> Data Cleanup </h2>\n",
        "\n",
        "Import `numpy`, `pandas`, and `matplotlib`.\n",
        "\n",
        "(Feel free to import other libraries!)"
      ]
    },
    {
      "cell_type": "code",
      "execution_count": 2,
      "metadata": {
        "id": "VgV7w8jTSFXR"
      },
      "outputs": [],
      "source": [
        "import numpy as np\n",
        "import pandas as pd\n",
        "import matplotlib.pyplot as plt"
      ]
    },
    {
      "cell_type": "markdown",
      "metadata": {
        "id": "PP8LaulGSFXR"
      },
      "source": [
        "Load in the \"states_edu.csv\" dataset and take a look at the head of the data"
      ]
    },
    {
      "cell_type": "code",
      "execution_count": 3,
      "metadata": {
        "colab": {
          "base_uri": "https://localhost:8080/",
          "height": 311
        },
        "id": "qTbGykc0SFXS",
        "outputId": "96148ee5-a7b5-435c-a479-a19685e5f972"
      },
      "outputs": [
        {
          "output_type": "display_data",
          "data": {
            "text/plain": [
              "<IPython.core.display.HTML object>"
            ],
            "text/html": [
              "\n",
              "     <input type=\"file\" id=\"files-d09f8410-a81e-413a-a922-8936cb35f096\" name=\"files[]\" multiple disabled\n",
              "        style=\"border:none\" />\n",
              "     <output id=\"result-d09f8410-a81e-413a-a922-8936cb35f096\">\n",
              "      Upload widget is only available when the cell has been executed in the\n",
              "      current browser session. Please rerun this cell to enable.\n",
              "      </output>\n",
              "      <script>// Copyright 2017 Google LLC\n",
              "//\n",
              "// Licensed under the Apache License, Version 2.0 (the \"License\");\n",
              "// you may not use this file except in compliance with the License.\n",
              "// You may obtain a copy of the License at\n",
              "//\n",
              "//      http://www.apache.org/licenses/LICENSE-2.0\n",
              "//\n",
              "// Unless required by applicable law or agreed to in writing, software\n",
              "// distributed under the License is distributed on an \"AS IS\" BASIS,\n",
              "// WITHOUT WARRANTIES OR CONDITIONS OF ANY KIND, either express or implied.\n",
              "// See the License for the specific language governing permissions and\n",
              "// limitations under the License.\n",
              "\n",
              "/**\n",
              " * @fileoverview Helpers for google.colab Python module.\n",
              " */\n",
              "(function(scope) {\n",
              "function span(text, styleAttributes = {}) {\n",
              "  const element = document.createElement('span');\n",
              "  element.textContent = text;\n",
              "  for (const key of Object.keys(styleAttributes)) {\n",
              "    element.style[key] = styleAttributes[key];\n",
              "  }\n",
              "  return element;\n",
              "}\n",
              "\n",
              "// Max number of bytes which will be uploaded at a time.\n",
              "const MAX_PAYLOAD_SIZE = 100 * 1024;\n",
              "\n",
              "function _uploadFiles(inputId, outputId) {\n",
              "  const steps = uploadFilesStep(inputId, outputId);\n",
              "  const outputElement = document.getElementById(outputId);\n",
              "  // Cache steps on the outputElement to make it available for the next call\n",
              "  // to uploadFilesContinue from Python.\n",
              "  outputElement.steps = steps;\n",
              "\n",
              "  return _uploadFilesContinue(outputId);\n",
              "}\n",
              "\n",
              "// This is roughly an async generator (not supported in the browser yet),\n",
              "// where there are multiple asynchronous steps and the Python side is going\n",
              "// to poll for completion of each step.\n",
              "// This uses a Promise to block the python side on completion of each step,\n",
              "// then passes the result of the previous step as the input to the next step.\n",
              "function _uploadFilesContinue(outputId) {\n",
              "  const outputElement = document.getElementById(outputId);\n",
              "  const steps = outputElement.steps;\n",
              "\n",
              "  const next = steps.next(outputElement.lastPromiseValue);\n",
              "  return Promise.resolve(next.value.promise).then((value) => {\n",
              "    // Cache the last promise value to make it available to the next\n",
              "    // step of the generator.\n",
              "    outputElement.lastPromiseValue = value;\n",
              "    return next.value.response;\n",
              "  });\n",
              "}\n",
              "\n",
              "/**\n",
              " * Generator function which is called between each async step of the upload\n",
              " * process.\n",
              " * @param {string} inputId Element ID of the input file picker element.\n",
              " * @param {string} outputId Element ID of the output display.\n",
              " * @return {!Iterable<!Object>} Iterable of next steps.\n",
              " */\n",
              "function* uploadFilesStep(inputId, outputId) {\n",
              "  const inputElement = document.getElementById(inputId);\n",
              "  inputElement.disabled = false;\n",
              "\n",
              "  const outputElement = document.getElementById(outputId);\n",
              "  outputElement.innerHTML = '';\n",
              "\n",
              "  const pickedPromise = new Promise((resolve) => {\n",
              "    inputElement.addEventListener('change', (e) => {\n",
              "      resolve(e.target.files);\n",
              "    });\n",
              "  });\n",
              "\n",
              "  const cancel = document.createElement('button');\n",
              "  inputElement.parentElement.appendChild(cancel);\n",
              "  cancel.textContent = 'Cancel upload';\n",
              "  const cancelPromise = new Promise((resolve) => {\n",
              "    cancel.onclick = () => {\n",
              "      resolve(null);\n",
              "    };\n",
              "  });\n",
              "\n",
              "  // Wait for the user to pick the files.\n",
              "  const files = yield {\n",
              "    promise: Promise.race([pickedPromise, cancelPromise]),\n",
              "    response: {\n",
              "      action: 'starting',\n",
              "    }\n",
              "  };\n",
              "\n",
              "  cancel.remove();\n",
              "\n",
              "  // Disable the input element since further picks are not allowed.\n",
              "  inputElement.disabled = true;\n",
              "\n",
              "  if (!files) {\n",
              "    return {\n",
              "      response: {\n",
              "        action: 'complete',\n",
              "      }\n",
              "    };\n",
              "  }\n",
              "\n",
              "  for (const file of files) {\n",
              "    const li = document.createElement('li');\n",
              "    li.append(span(file.name, {fontWeight: 'bold'}));\n",
              "    li.append(span(\n",
              "        `(${file.type || 'n/a'}) - ${file.size} bytes, ` +\n",
              "        `last modified: ${\n",
              "            file.lastModifiedDate ? file.lastModifiedDate.toLocaleDateString() :\n",
              "                                    'n/a'} - `));\n",
              "    const percent = span('0% done');\n",
              "    li.appendChild(percent);\n",
              "\n",
              "    outputElement.appendChild(li);\n",
              "\n",
              "    const fileDataPromise = new Promise((resolve) => {\n",
              "      const reader = new FileReader();\n",
              "      reader.onload = (e) => {\n",
              "        resolve(e.target.result);\n",
              "      };\n",
              "      reader.readAsArrayBuffer(file);\n",
              "    });\n",
              "    // Wait for the data to be ready.\n",
              "    let fileData = yield {\n",
              "      promise: fileDataPromise,\n",
              "      response: {\n",
              "        action: 'continue',\n",
              "      }\n",
              "    };\n",
              "\n",
              "    // Use a chunked sending to avoid message size limits. See b/62115660.\n",
              "    let position = 0;\n",
              "    do {\n",
              "      const length = Math.min(fileData.byteLength - position, MAX_PAYLOAD_SIZE);\n",
              "      const chunk = new Uint8Array(fileData, position, length);\n",
              "      position += length;\n",
              "\n",
              "      const base64 = btoa(String.fromCharCode.apply(null, chunk));\n",
              "      yield {\n",
              "        response: {\n",
              "          action: 'append',\n",
              "          file: file.name,\n",
              "          data: base64,\n",
              "        },\n",
              "      };\n",
              "\n",
              "      let percentDone = fileData.byteLength === 0 ?\n",
              "          100 :\n",
              "          Math.round((position / fileData.byteLength) * 100);\n",
              "      percent.textContent = `${percentDone}% done`;\n",
              "\n",
              "    } while (position < fileData.byteLength);\n",
              "  }\n",
              "\n",
              "  // All done.\n",
              "  yield {\n",
              "    response: {\n",
              "      action: 'complete',\n",
              "    }\n",
              "  };\n",
              "}\n",
              "\n",
              "scope.google = scope.google || {};\n",
              "scope.google.colab = scope.google.colab || {};\n",
              "scope.google.colab._files = {\n",
              "  _uploadFiles,\n",
              "  _uploadFilesContinue,\n",
              "};\n",
              "})(self);\n",
              "</script> "
            ]
          },
          "metadata": {}
        },
        {
          "output_type": "stream",
          "name": "stdout",
          "text": [
            "Saving states_edu.csv to states_edu.csv\n"
          ]
        },
        {
          "output_type": "execute_result",
          "data": {
            "text/plain": [
              "       PRIMARY_KEY       STATE  YEAR  ENROLL  TOTAL_REVENUE  FEDERAL_REVENUE  \\\n",
              "0     1992_ALABAMA     ALABAMA  1992     NaN      2678885.0         304177.0   \n",
              "1      1992_ALASKA      ALASKA  1992     NaN      1049591.0         106780.0   \n",
              "2     1992_ARIZONA     ARIZONA  1992     NaN      3258079.0         297888.0   \n",
              "3    1992_ARKANSAS    ARKANSAS  1992     NaN      1711959.0         178571.0   \n",
              "4  1992_CALIFORNIA  CALIFORNIA  1992     NaN     26260025.0        2072470.0   \n",
              "\n",
              "   STATE_REVENUE  LOCAL_REVENUE  TOTAL_EXPENDITURE  INSTRUCTION_EXPENDITURE  \\\n",
              "0      1659028.0       715680.0          2653798.0                1481703.0   \n",
              "1       720711.0       222100.0           972488.0                 498362.0   \n",
              "2      1369815.0      1590376.0          3401580.0                1435908.0   \n",
              "3       958785.0       574603.0          1743022.0                 964323.0   \n",
              "4     16546514.0      7641041.0         27138832.0               14358922.0   \n",
              "\n",
              "   ...  GRADES_4_G  GRADES_8_G  GRADES_12_G  GRADES_1_8_G  GRADES_9_12_G  \\\n",
              "0  ...     57948.0     58025.0      41167.0           NaN            NaN   \n",
              "1  ...      9748.0      8789.0       6714.0           NaN            NaN   \n",
              "2  ...     55433.0     49081.0      37410.0           NaN            NaN   \n",
              "3  ...     34632.0     36011.0      27651.0           NaN            NaN   \n",
              "4  ...    418418.0    363296.0     270675.0           NaN            NaN   \n",
              "\n",
              "   GRADES_ALL_G  AVG_MATH_4_SCORE  AVG_MATH_8_SCORE  AVG_READING_4_SCORE  \\\n",
              "0      731634.0             208.0             252.0                207.0   \n",
              "1      122487.0               NaN               NaN                  NaN   \n",
              "2      673477.0             215.0             265.0                209.0   \n",
              "3      441490.0             210.0             256.0                211.0   \n",
              "4     5254844.0             208.0             261.0                202.0   \n",
              "\n",
              "   AVG_READING_8_SCORE  \n",
              "0                  NaN  \n",
              "1                  NaN  \n",
              "2                  NaN  \n",
              "3                  NaN  \n",
              "4                  NaN  \n",
              "\n",
              "[5 rows x 25 columns]"
            ],
            "text/html": [
              "\n",
              "  <div id=\"df-6dac857a-343d-40ae-bac8-47a58d8fbd32\" class=\"colab-df-container\">\n",
              "    <div>\n",
              "<style scoped>\n",
              "    .dataframe tbody tr th:only-of-type {\n",
              "        vertical-align: middle;\n",
              "    }\n",
              "\n",
              "    .dataframe tbody tr th {\n",
              "        vertical-align: top;\n",
              "    }\n",
              "\n",
              "    .dataframe thead th {\n",
              "        text-align: right;\n",
              "    }\n",
              "</style>\n",
              "<table border=\"1\" class=\"dataframe\">\n",
              "  <thead>\n",
              "    <tr style=\"text-align: right;\">\n",
              "      <th></th>\n",
              "      <th>PRIMARY_KEY</th>\n",
              "      <th>STATE</th>\n",
              "      <th>YEAR</th>\n",
              "      <th>ENROLL</th>\n",
              "      <th>TOTAL_REVENUE</th>\n",
              "      <th>FEDERAL_REVENUE</th>\n",
              "      <th>STATE_REVENUE</th>\n",
              "      <th>LOCAL_REVENUE</th>\n",
              "      <th>TOTAL_EXPENDITURE</th>\n",
              "      <th>INSTRUCTION_EXPENDITURE</th>\n",
              "      <th>...</th>\n",
              "      <th>GRADES_4_G</th>\n",
              "      <th>GRADES_8_G</th>\n",
              "      <th>GRADES_12_G</th>\n",
              "      <th>GRADES_1_8_G</th>\n",
              "      <th>GRADES_9_12_G</th>\n",
              "      <th>GRADES_ALL_G</th>\n",
              "      <th>AVG_MATH_4_SCORE</th>\n",
              "      <th>AVG_MATH_8_SCORE</th>\n",
              "      <th>AVG_READING_4_SCORE</th>\n",
              "      <th>AVG_READING_8_SCORE</th>\n",
              "    </tr>\n",
              "  </thead>\n",
              "  <tbody>\n",
              "    <tr>\n",
              "      <th>0</th>\n",
              "      <td>1992_ALABAMA</td>\n",
              "      <td>ALABAMA</td>\n",
              "      <td>1992</td>\n",
              "      <td>NaN</td>\n",
              "      <td>2678885.0</td>\n",
              "      <td>304177.0</td>\n",
              "      <td>1659028.0</td>\n",
              "      <td>715680.0</td>\n",
              "      <td>2653798.0</td>\n",
              "      <td>1481703.0</td>\n",
              "      <td>...</td>\n",
              "      <td>57948.0</td>\n",
              "      <td>58025.0</td>\n",
              "      <td>41167.0</td>\n",
              "      <td>NaN</td>\n",
              "      <td>NaN</td>\n",
              "      <td>731634.0</td>\n",
              "      <td>208.0</td>\n",
              "      <td>252.0</td>\n",
              "      <td>207.0</td>\n",
              "      <td>NaN</td>\n",
              "    </tr>\n",
              "    <tr>\n",
              "      <th>1</th>\n",
              "      <td>1992_ALASKA</td>\n",
              "      <td>ALASKA</td>\n",
              "      <td>1992</td>\n",
              "      <td>NaN</td>\n",
              "      <td>1049591.0</td>\n",
              "      <td>106780.0</td>\n",
              "      <td>720711.0</td>\n",
              "      <td>222100.0</td>\n",
              "      <td>972488.0</td>\n",
              "      <td>498362.0</td>\n",
              "      <td>...</td>\n",
              "      <td>9748.0</td>\n",
              "      <td>8789.0</td>\n",
              "      <td>6714.0</td>\n",
              "      <td>NaN</td>\n",
              "      <td>NaN</td>\n",
              "      <td>122487.0</td>\n",
              "      <td>NaN</td>\n",
              "      <td>NaN</td>\n",
              "      <td>NaN</td>\n",
              "      <td>NaN</td>\n",
              "    </tr>\n",
              "    <tr>\n",
              "      <th>2</th>\n",
              "      <td>1992_ARIZONA</td>\n",
              "      <td>ARIZONA</td>\n",
              "      <td>1992</td>\n",
              "      <td>NaN</td>\n",
              "      <td>3258079.0</td>\n",
              "      <td>297888.0</td>\n",
              "      <td>1369815.0</td>\n",
              "      <td>1590376.0</td>\n",
              "      <td>3401580.0</td>\n",
              "      <td>1435908.0</td>\n",
              "      <td>...</td>\n",
              "      <td>55433.0</td>\n",
              "      <td>49081.0</td>\n",
              "      <td>37410.0</td>\n",
              "      <td>NaN</td>\n",
              "      <td>NaN</td>\n",
              "      <td>673477.0</td>\n",
              "      <td>215.0</td>\n",
              "      <td>265.0</td>\n",
              "      <td>209.0</td>\n",
              "      <td>NaN</td>\n",
              "    </tr>\n",
              "    <tr>\n",
              "      <th>3</th>\n",
              "      <td>1992_ARKANSAS</td>\n",
              "      <td>ARKANSAS</td>\n",
              "      <td>1992</td>\n",
              "      <td>NaN</td>\n",
              "      <td>1711959.0</td>\n",
              "      <td>178571.0</td>\n",
              "      <td>958785.0</td>\n",
              "      <td>574603.0</td>\n",
              "      <td>1743022.0</td>\n",
              "      <td>964323.0</td>\n",
              "      <td>...</td>\n",
              "      <td>34632.0</td>\n",
              "      <td>36011.0</td>\n",
              "      <td>27651.0</td>\n",
              "      <td>NaN</td>\n",
              "      <td>NaN</td>\n",
              "      <td>441490.0</td>\n",
              "      <td>210.0</td>\n",
              "      <td>256.0</td>\n",
              "      <td>211.0</td>\n",
              "      <td>NaN</td>\n",
              "    </tr>\n",
              "    <tr>\n",
              "      <th>4</th>\n",
              "      <td>1992_CALIFORNIA</td>\n",
              "      <td>CALIFORNIA</td>\n",
              "      <td>1992</td>\n",
              "      <td>NaN</td>\n",
              "      <td>26260025.0</td>\n",
              "      <td>2072470.0</td>\n",
              "      <td>16546514.0</td>\n",
              "      <td>7641041.0</td>\n",
              "      <td>27138832.0</td>\n",
              "      <td>14358922.0</td>\n",
              "      <td>...</td>\n",
              "      <td>418418.0</td>\n",
              "      <td>363296.0</td>\n",
              "      <td>270675.0</td>\n",
              "      <td>NaN</td>\n",
              "      <td>NaN</td>\n",
              "      <td>5254844.0</td>\n",
              "      <td>208.0</td>\n",
              "      <td>261.0</td>\n",
              "      <td>202.0</td>\n",
              "      <td>NaN</td>\n",
              "    </tr>\n",
              "  </tbody>\n",
              "</table>\n",
              "<p>5 rows × 25 columns</p>\n",
              "</div>\n",
              "    <div class=\"colab-df-buttons\">\n",
              "\n",
              "  <div class=\"colab-df-container\">\n",
              "    <button class=\"colab-df-convert\" onclick=\"convertToInteractive('df-6dac857a-343d-40ae-bac8-47a58d8fbd32')\"\n",
              "            title=\"Convert this dataframe to an interactive table.\"\n",
              "            style=\"display:none;\">\n",
              "\n",
              "  <svg xmlns=\"http://www.w3.org/2000/svg\" height=\"24px\" viewBox=\"0 -960 960 960\">\n",
              "    <path d=\"M120-120v-720h720v720H120Zm60-500h600v-160H180v160Zm220 220h160v-160H400v160Zm0 220h160v-160H400v160ZM180-400h160v-160H180v160Zm440 0h160v-160H620v160ZM180-180h160v-160H180v160Zm440 0h160v-160H620v160Z\"/>\n",
              "  </svg>\n",
              "    </button>\n",
              "\n",
              "  <style>\n",
              "    .colab-df-container {\n",
              "      display:flex;\n",
              "      gap: 12px;\n",
              "    }\n",
              "\n",
              "    .colab-df-convert {\n",
              "      background-color: #E8F0FE;\n",
              "      border: none;\n",
              "      border-radius: 50%;\n",
              "      cursor: pointer;\n",
              "      display: none;\n",
              "      fill: #1967D2;\n",
              "      height: 32px;\n",
              "      padding: 0 0 0 0;\n",
              "      width: 32px;\n",
              "    }\n",
              "\n",
              "    .colab-df-convert:hover {\n",
              "      background-color: #E2EBFA;\n",
              "      box-shadow: 0px 1px 2px rgba(60, 64, 67, 0.3), 0px 1px 3px 1px rgba(60, 64, 67, 0.15);\n",
              "      fill: #174EA6;\n",
              "    }\n",
              "\n",
              "    .colab-df-buttons div {\n",
              "      margin-bottom: 4px;\n",
              "    }\n",
              "\n",
              "    [theme=dark] .colab-df-convert {\n",
              "      background-color: #3B4455;\n",
              "      fill: #D2E3FC;\n",
              "    }\n",
              "\n",
              "    [theme=dark] .colab-df-convert:hover {\n",
              "      background-color: #434B5C;\n",
              "      box-shadow: 0px 1px 3px 1px rgba(0, 0, 0, 0.15);\n",
              "      filter: drop-shadow(0px 1px 2px rgba(0, 0, 0, 0.3));\n",
              "      fill: #FFFFFF;\n",
              "    }\n",
              "  </style>\n",
              "\n",
              "    <script>\n",
              "      const buttonEl =\n",
              "        document.querySelector('#df-6dac857a-343d-40ae-bac8-47a58d8fbd32 button.colab-df-convert');\n",
              "      buttonEl.style.display =\n",
              "        google.colab.kernel.accessAllowed ? 'block' : 'none';\n",
              "\n",
              "      async function convertToInteractive(key) {\n",
              "        const element = document.querySelector('#df-6dac857a-343d-40ae-bac8-47a58d8fbd32');\n",
              "        const dataTable =\n",
              "          await google.colab.kernel.invokeFunction('convertToInteractive',\n",
              "                                                    [key], {});\n",
              "        if (!dataTable) return;\n",
              "\n",
              "        const docLinkHtml = 'Like what you see? Visit the ' +\n",
              "          '<a target=\"_blank\" href=https://colab.research.google.com/notebooks/data_table.ipynb>data table notebook</a>'\n",
              "          + ' to learn more about interactive tables.';\n",
              "        element.innerHTML = '';\n",
              "        dataTable['output_type'] = 'display_data';\n",
              "        await google.colab.output.renderOutput(dataTable, element);\n",
              "        const docLink = document.createElement('div');\n",
              "        docLink.innerHTML = docLinkHtml;\n",
              "        element.appendChild(docLink);\n",
              "      }\n",
              "    </script>\n",
              "  </div>\n",
              "\n",
              "\n",
              "    <div id=\"df-0ecef55d-728e-4b67-b387-ca4c79996a9a\">\n",
              "      <button class=\"colab-df-quickchart\" onclick=\"quickchart('df-0ecef55d-728e-4b67-b387-ca4c79996a9a')\"\n",
              "                title=\"Suggest charts\"\n",
              "                style=\"display:none;\">\n",
              "\n",
              "<svg xmlns=\"http://www.w3.org/2000/svg\" height=\"24px\"viewBox=\"0 0 24 24\"\n",
              "     width=\"24px\">\n",
              "    <g>\n",
              "        <path d=\"M19 3H5c-1.1 0-2 .9-2 2v14c0 1.1.9 2 2 2h14c1.1 0 2-.9 2-2V5c0-1.1-.9-2-2-2zM9 17H7v-7h2v7zm4 0h-2V7h2v10zm4 0h-2v-4h2v4z\"/>\n",
              "    </g>\n",
              "</svg>\n",
              "      </button>\n",
              "\n",
              "<style>\n",
              "  .colab-df-quickchart {\n",
              "      --bg-color: #E8F0FE;\n",
              "      --fill-color: #1967D2;\n",
              "      --hover-bg-color: #E2EBFA;\n",
              "      --hover-fill-color: #174EA6;\n",
              "      --disabled-fill-color: #AAA;\n",
              "      --disabled-bg-color: #DDD;\n",
              "  }\n",
              "\n",
              "  [theme=dark] .colab-df-quickchart {\n",
              "      --bg-color: #3B4455;\n",
              "      --fill-color: #D2E3FC;\n",
              "      --hover-bg-color: #434B5C;\n",
              "      --hover-fill-color: #FFFFFF;\n",
              "      --disabled-bg-color: #3B4455;\n",
              "      --disabled-fill-color: #666;\n",
              "  }\n",
              "\n",
              "  .colab-df-quickchart {\n",
              "    background-color: var(--bg-color);\n",
              "    border: none;\n",
              "    border-radius: 50%;\n",
              "    cursor: pointer;\n",
              "    display: none;\n",
              "    fill: var(--fill-color);\n",
              "    height: 32px;\n",
              "    padding: 0;\n",
              "    width: 32px;\n",
              "  }\n",
              "\n",
              "  .colab-df-quickchart:hover {\n",
              "    background-color: var(--hover-bg-color);\n",
              "    box-shadow: 0 1px 2px rgba(60, 64, 67, 0.3), 0 1px 3px 1px rgba(60, 64, 67, 0.15);\n",
              "    fill: var(--button-hover-fill-color);\n",
              "  }\n",
              "\n",
              "  .colab-df-quickchart-complete:disabled,\n",
              "  .colab-df-quickchart-complete:disabled:hover {\n",
              "    background-color: var(--disabled-bg-color);\n",
              "    fill: var(--disabled-fill-color);\n",
              "    box-shadow: none;\n",
              "  }\n",
              "\n",
              "  .colab-df-spinner {\n",
              "    border: 2px solid var(--fill-color);\n",
              "    border-color: transparent;\n",
              "    border-bottom-color: var(--fill-color);\n",
              "    animation:\n",
              "      spin 1s steps(1) infinite;\n",
              "  }\n",
              "\n",
              "  @keyframes spin {\n",
              "    0% {\n",
              "      border-color: transparent;\n",
              "      border-bottom-color: var(--fill-color);\n",
              "      border-left-color: var(--fill-color);\n",
              "    }\n",
              "    20% {\n",
              "      border-color: transparent;\n",
              "      border-left-color: var(--fill-color);\n",
              "      border-top-color: var(--fill-color);\n",
              "    }\n",
              "    30% {\n",
              "      border-color: transparent;\n",
              "      border-left-color: var(--fill-color);\n",
              "      border-top-color: var(--fill-color);\n",
              "      border-right-color: var(--fill-color);\n",
              "    }\n",
              "    40% {\n",
              "      border-color: transparent;\n",
              "      border-right-color: var(--fill-color);\n",
              "      border-top-color: var(--fill-color);\n",
              "    }\n",
              "    60% {\n",
              "      border-color: transparent;\n",
              "      border-right-color: var(--fill-color);\n",
              "    }\n",
              "    80% {\n",
              "      border-color: transparent;\n",
              "      border-right-color: var(--fill-color);\n",
              "      border-bottom-color: var(--fill-color);\n",
              "    }\n",
              "    90% {\n",
              "      border-color: transparent;\n",
              "      border-bottom-color: var(--fill-color);\n",
              "    }\n",
              "  }\n",
              "</style>\n",
              "\n",
              "      <script>\n",
              "        async function quickchart(key) {\n",
              "          const quickchartButtonEl =\n",
              "            document.querySelector('#' + key + ' button');\n",
              "          quickchartButtonEl.disabled = true;  // To prevent multiple clicks.\n",
              "          quickchartButtonEl.classList.add('colab-df-spinner');\n",
              "          try {\n",
              "            const charts = await google.colab.kernel.invokeFunction(\n",
              "                'suggestCharts', [key], {});\n",
              "          } catch (error) {\n",
              "            console.error('Error during call to suggestCharts:', error);\n",
              "          }\n",
              "          quickchartButtonEl.classList.remove('colab-df-spinner');\n",
              "          quickchartButtonEl.classList.add('colab-df-quickchart-complete');\n",
              "        }\n",
              "        (() => {\n",
              "          let quickchartButtonEl =\n",
              "            document.querySelector('#df-0ecef55d-728e-4b67-b387-ca4c79996a9a button');\n",
              "          quickchartButtonEl.style.display =\n",
              "            google.colab.kernel.accessAllowed ? 'block' : 'none';\n",
              "        })();\n",
              "      </script>\n",
              "    </div>\n",
              "\n",
              "    </div>\n",
              "  </div>\n"
            ],
            "application/vnd.google.colaboratory.intrinsic+json": {
              "type": "dataframe",
              "variable_name": "df"
            }
          },
          "metadata": {},
          "execution_count": 3
        }
      ],
      "source": [
        "# load the dataset from google lab\n",
        "from google.colab import files\n",
        "uploaded = files.upload()\n",
        "df = pd.read_csv('states_edu.csv')\n",
        "df.head()"
      ]
    },
    {
      "cell_type": "markdown",
      "metadata": {
        "id": "kwWGmCNrSFXS"
      },
      "source": [
        "You should always familiarize yourself with what each column in the dataframe represents. Read about the states_edu dataset here: https://www.kaggle.com/noriuk/us-education-datasets-unification-project"
      ]
    },
    {
      "cell_type": "markdown",
      "metadata": {
        "id": "v0xfAaV0SFXS"
      },
      "source": [
        "Use this space to rename columns, deal with missing data, etc. _(optional)_"
      ]
    },
    {
      "cell_type": "code",
      "execution_count": 3,
      "metadata": {
        "id": "00Xbaf15SFXS"
      },
      "outputs": [],
      "source": []
    },
    {
      "cell_type": "markdown",
      "metadata": {
        "id": "G_bBFswdSFXS"
      },
      "source": [
        "<h2>Exploratory Data Analysis (EDA) </h2>"
      ]
    },
    {
      "cell_type": "markdown",
      "metadata": {
        "id": "qIveDIYxSFXS"
      },
      "source": [
        "Chosen one of Grade 4 Reading, Grade 4 Math, or Grade 8 Math to focus on: *Grade 8 Math*"
      ]
    },
    {
      "cell_type": "markdown",
      "metadata": {
        "id": "x_HjUm4HSFXS"
      },
      "source": [
        "How many years of data are logged in our dataset?"
      ]
    },
    {
      "cell_type": "code",
      "execution_count": 4,
      "metadata": {
        "colab": {
          "base_uri": "https://localhost:8080/",
          "height": 0
        },
        "id": "wVoS7x3LSFXS",
        "outputId": "9914d76f-6f5f-4e94-cd2d-206690f9af84"
      },
      "outputs": [
        {
          "output_type": "execute_result",
          "data": {
            "text/plain": [
              "33"
            ]
          },
          "metadata": {},
          "execution_count": 4
        }
      ],
      "source": [
        "# @@@ 1\n",
        "# Your Code\n",
        "df[\"YEAR\"].nunique()\n",
        "\n",
        "# Answer: 33"
      ]
    },
    {
      "cell_type": "markdown",
      "metadata": {
        "id": "i9HyPSE9SFXT"
      },
      "source": [
        "Let's compare Michigan to Ohio. Which state has the higher average across all years in the test you chose?"
      ]
    },
    {
      "cell_type": "code",
      "execution_count": 5,
      "metadata": {
        "colab": {
          "base_uri": "https://localhost:8080/",
          "height": 178
        },
        "id": "37slZR0OSFXT",
        "outputId": "a475d599-fbfb-4000-eafb-f68c3dc88c78"
      },
      "outputs": [
        {
          "output_type": "execute_result",
          "data": {
            "text/plain": [
              "STATE\n",
              "MICHIGAN    276.166667\n",
              "OHIO        282.250000\n",
              "Name: AVG_MATH_8_SCORE, dtype: float64"
            ],
            "text/html": [
              "<div>\n",
              "<style scoped>\n",
              "    .dataframe tbody tr th:only-of-type {\n",
              "        vertical-align: middle;\n",
              "    }\n",
              "\n",
              "    .dataframe tbody tr th {\n",
              "        vertical-align: top;\n",
              "    }\n",
              "\n",
              "    .dataframe thead th {\n",
              "        text-align: right;\n",
              "    }\n",
              "</style>\n",
              "<table border=\"1\" class=\"dataframe\">\n",
              "  <thead>\n",
              "    <tr style=\"text-align: right;\">\n",
              "      <th></th>\n",
              "      <th>AVG_MATH_8_SCORE</th>\n",
              "    </tr>\n",
              "    <tr>\n",
              "      <th>STATE</th>\n",
              "      <th></th>\n",
              "    </tr>\n",
              "  </thead>\n",
              "  <tbody>\n",
              "    <tr>\n",
              "      <th>MICHIGAN</th>\n",
              "      <td>276.166667</td>\n",
              "    </tr>\n",
              "    <tr>\n",
              "      <th>OHIO</th>\n",
              "      <td>282.250000</td>\n",
              "    </tr>\n",
              "  </tbody>\n",
              "</table>\n",
              "</div><br><label><b>dtype:</b> float64</label>"
            ]
          },
          "metadata": {},
          "execution_count": 5
        }
      ],
      "source": [
        "# @@@ 2\n",
        "df.groupby(\"STATE\")[\"AVG_MATH_8_SCORE\"].mean().loc[[\"MICHIGAN\", \"OHIO\"]]\n",
        "\n",
        "# Answer: Ohio has a higher average (282.25), compared to Michigan (276.167), regarding Math score on Grade 8.\n"
      ]
    },
    {
      "cell_type": "markdown",
      "metadata": {
        "id": "BOwryZHsSFXT"
      },
      "source": [
        "Find the average for your chosen test across all states in 2019"
      ]
    },
    {
      "cell_type": "code",
      "execution_count": 6,
      "metadata": {
        "colab": {
          "base_uri": "https://localhost:8080/",
          "height": 0
        },
        "id": "Xur4XetqSFXT",
        "outputId": "efd6d44e-c179-4556-e6a6-9cbd364d50aa"
      },
      "outputs": [
        {
          "output_type": "execute_result",
          "data": {
            "text/plain": [
              "np.float64(281.2641509433962)"
            ]
          },
          "metadata": {},
          "execution_count": 6
        }
      ],
      "source": [
        "# @@@ 3\n",
        "# boolean condition: \"YEAR\" == 2019\n",
        "condition = df[\"YEAR\"] == 2019\n",
        "\n",
        "# select rows which evaluates to TRUE\n",
        "df[condition]\n",
        "\n",
        "# find average of \"AVG_MATH_8_score\"\n",
        "df[condition][\"AVG_MATH_8_SCORE\"].mean()\n",
        "\n",
        "# Answer: 281.26415"
      ]
    },
    {
      "cell_type": "markdown",
      "metadata": {
        "id": "fMlDTJyJSFXT"
      },
      "source": [
        "For each state, find a maximum value for your chosen test score"
      ]
    },
    {
      "cell_type": "code",
      "execution_count": 7,
      "metadata": {
        "id": "aEcodguGSFXT",
        "colab": {
          "base_uri": "https://localhost:8080/",
          "height": 1777
        },
        "outputId": "9d75174a-3b8a-46c8-b4e2-f070ebd519ba"
      },
      "outputs": [
        {
          "output_type": "execute_result",
          "data": {
            "text/plain": [
              "STATE\n",
              "ALABAMA                 269.0\n",
              "ALASKA                  283.0\n",
              "ARIZONA                 283.0\n",
              "ARKANSAS                279.0\n",
              "CALIFORNIA              277.0\n",
              "COLORADO                292.0\n",
              "CONNECTICUT             289.0\n",
              "DELAWARE                284.0\n",
              "DISTRICT_OF_COLUMBIA    269.0\n",
              "DODEA                   293.0\n",
              "FLORIDA                 281.0\n",
              "GEORGIA                 281.0\n",
              "HAWAII                  281.0\n",
              "IDAHO                   287.0\n",
              "ILLINOIS                285.0\n",
              "INDIANA                 288.0\n",
              "IOWA                    286.0\n",
              "KANSAS                  290.0\n",
              "KENTUCKY                282.0\n",
              "LOUISIANA               273.0\n",
              "MAINE                   289.0\n",
              "MARYLAND                288.0\n",
              "MASSACHUSETTS           301.0\n",
              "MICHIGAN                280.0\n",
              "MINNESOTA               295.0\n",
              "MISSISSIPPI             274.0\n",
              "MISSOURI                286.0\n",
              "MONTANA                 293.0\n",
              "NATIONAL                285.0\n",
              "NEBRASKA                288.0\n",
              "NEVADA                  278.0\n",
              "NEW_HAMPSHIRE           296.0\n",
              "NEW_JERSEY              296.0\n",
              "NEW_MEXICO              274.0\n",
              "NEW_YORK                283.0\n",
              "NORTH_CAROLINA          286.0\n",
              "NORTH_DAKOTA            293.0\n",
              "OHIO                    290.0\n",
              "OKLAHOMA                279.0\n",
              "OREGON                  285.0\n",
              "PENNSYLVANIA            290.0\n",
              "RHODE_ISLAND            284.0\n",
              "SOUTH_CAROLINA          282.0\n",
              "SOUTH_DAKOTA            291.0\n",
              "TENNESSEE               280.0\n",
              "TEXAS                   290.0\n",
              "UTAH                    287.0\n",
              "VERMONT                 295.0\n",
              "VIRGINIA                290.0\n",
              "WASHINGTON              290.0\n",
              "WEST_VIRGINIA           274.0\n",
              "WISCONSIN               289.0\n",
              "WYOMING                 289.0\n",
              "Name: AVG_MATH_8_SCORE, dtype: float64"
            ],
            "text/html": [
              "<div>\n",
              "<style scoped>\n",
              "    .dataframe tbody tr th:only-of-type {\n",
              "        vertical-align: middle;\n",
              "    }\n",
              "\n",
              "    .dataframe tbody tr th {\n",
              "        vertical-align: top;\n",
              "    }\n",
              "\n",
              "    .dataframe thead th {\n",
              "        text-align: right;\n",
              "    }\n",
              "</style>\n",
              "<table border=\"1\" class=\"dataframe\">\n",
              "  <thead>\n",
              "    <tr style=\"text-align: right;\">\n",
              "      <th></th>\n",
              "      <th>AVG_MATH_8_SCORE</th>\n",
              "    </tr>\n",
              "    <tr>\n",
              "      <th>STATE</th>\n",
              "      <th></th>\n",
              "    </tr>\n",
              "  </thead>\n",
              "  <tbody>\n",
              "    <tr>\n",
              "      <th>ALABAMA</th>\n",
              "      <td>269.0</td>\n",
              "    </tr>\n",
              "    <tr>\n",
              "      <th>ALASKA</th>\n",
              "      <td>283.0</td>\n",
              "    </tr>\n",
              "    <tr>\n",
              "      <th>ARIZONA</th>\n",
              "      <td>283.0</td>\n",
              "    </tr>\n",
              "    <tr>\n",
              "      <th>ARKANSAS</th>\n",
              "      <td>279.0</td>\n",
              "    </tr>\n",
              "    <tr>\n",
              "      <th>CALIFORNIA</th>\n",
              "      <td>277.0</td>\n",
              "    </tr>\n",
              "    <tr>\n",
              "      <th>COLORADO</th>\n",
              "      <td>292.0</td>\n",
              "    </tr>\n",
              "    <tr>\n",
              "      <th>CONNECTICUT</th>\n",
              "      <td>289.0</td>\n",
              "    </tr>\n",
              "    <tr>\n",
              "      <th>DELAWARE</th>\n",
              "      <td>284.0</td>\n",
              "    </tr>\n",
              "    <tr>\n",
              "      <th>DISTRICT_OF_COLUMBIA</th>\n",
              "      <td>269.0</td>\n",
              "    </tr>\n",
              "    <tr>\n",
              "      <th>DODEA</th>\n",
              "      <td>293.0</td>\n",
              "    </tr>\n",
              "    <tr>\n",
              "      <th>FLORIDA</th>\n",
              "      <td>281.0</td>\n",
              "    </tr>\n",
              "    <tr>\n",
              "      <th>GEORGIA</th>\n",
              "      <td>281.0</td>\n",
              "    </tr>\n",
              "    <tr>\n",
              "      <th>HAWAII</th>\n",
              "      <td>281.0</td>\n",
              "    </tr>\n",
              "    <tr>\n",
              "      <th>IDAHO</th>\n",
              "      <td>287.0</td>\n",
              "    </tr>\n",
              "    <tr>\n",
              "      <th>ILLINOIS</th>\n",
              "      <td>285.0</td>\n",
              "    </tr>\n",
              "    <tr>\n",
              "      <th>INDIANA</th>\n",
              "      <td>288.0</td>\n",
              "    </tr>\n",
              "    <tr>\n",
              "      <th>IOWA</th>\n",
              "      <td>286.0</td>\n",
              "    </tr>\n",
              "    <tr>\n",
              "      <th>KANSAS</th>\n",
              "      <td>290.0</td>\n",
              "    </tr>\n",
              "    <tr>\n",
              "      <th>KENTUCKY</th>\n",
              "      <td>282.0</td>\n",
              "    </tr>\n",
              "    <tr>\n",
              "      <th>LOUISIANA</th>\n",
              "      <td>273.0</td>\n",
              "    </tr>\n",
              "    <tr>\n",
              "      <th>MAINE</th>\n",
              "      <td>289.0</td>\n",
              "    </tr>\n",
              "    <tr>\n",
              "      <th>MARYLAND</th>\n",
              "      <td>288.0</td>\n",
              "    </tr>\n",
              "    <tr>\n",
              "      <th>MASSACHUSETTS</th>\n",
              "      <td>301.0</td>\n",
              "    </tr>\n",
              "    <tr>\n",
              "      <th>MICHIGAN</th>\n",
              "      <td>280.0</td>\n",
              "    </tr>\n",
              "    <tr>\n",
              "      <th>MINNESOTA</th>\n",
              "      <td>295.0</td>\n",
              "    </tr>\n",
              "    <tr>\n",
              "      <th>MISSISSIPPI</th>\n",
              "      <td>274.0</td>\n",
              "    </tr>\n",
              "    <tr>\n",
              "      <th>MISSOURI</th>\n",
              "      <td>286.0</td>\n",
              "    </tr>\n",
              "    <tr>\n",
              "      <th>MONTANA</th>\n",
              "      <td>293.0</td>\n",
              "    </tr>\n",
              "    <tr>\n",
              "      <th>NATIONAL</th>\n",
              "      <td>285.0</td>\n",
              "    </tr>\n",
              "    <tr>\n",
              "      <th>NEBRASKA</th>\n",
              "      <td>288.0</td>\n",
              "    </tr>\n",
              "    <tr>\n",
              "      <th>NEVADA</th>\n",
              "      <td>278.0</td>\n",
              "    </tr>\n",
              "    <tr>\n",
              "      <th>NEW_HAMPSHIRE</th>\n",
              "      <td>296.0</td>\n",
              "    </tr>\n",
              "    <tr>\n",
              "      <th>NEW_JERSEY</th>\n",
              "      <td>296.0</td>\n",
              "    </tr>\n",
              "    <tr>\n",
              "      <th>NEW_MEXICO</th>\n",
              "      <td>274.0</td>\n",
              "    </tr>\n",
              "    <tr>\n",
              "      <th>NEW_YORK</th>\n",
              "      <td>283.0</td>\n",
              "    </tr>\n",
              "    <tr>\n",
              "      <th>NORTH_CAROLINA</th>\n",
              "      <td>286.0</td>\n",
              "    </tr>\n",
              "    <tr>\n",
              "      <th>NORTH_DAKOTA</th>\n",
              "      <td>293.0</td>\n",
              "    </tr>\n",
              "    <tr>\n",
              "      <th>OHIO</th>\n",
              "      <td>290.0</td>\n",
              "    </tr>\n",
              "    <tr>\n",
              "      <th>OKLAHOMA</th>\n",
              "      <td>279.0</td>\n",
              "    </tr>\n",
              "    <tr>\n",
              "      <th>OREGON</th>\n",
              "      <td>285.0</td>\n",
              "    </tr>\n",
              "    <tr>\n",
              "      <th>PENNSYLVANIA</th>\n",
              "      <td>290.0</td>\n",
              "    </tr>\n",
              "    <tr>\n",
              "      <th>RHODE_ISLAND</th>\n",
              "      <td>284.0</td>\n",
              "    </tr>\n",
              "    <tr>\n",
              "      <th>SOUTH_CAROLINA</th>\n",
              "      <td>282.0</td>\n",
              "    </tr>\n",
              "    <tr>\n",
              "      <th>SOUTH_DAKOTA</th>\n",
              "      <td>291.0</td>\n",
              "    </tr>\n",
              "    <tr>\n",
              "      <th>TENNESSEE</th>\n",
              "      <td>280.0</td>\n",
              "    </tr>\n",
              "    <tr>\n",
              "      <th>TEXAS</th>\n",
              "      <td>290.0</td>\n",
              "    </tr>\n",
              "    <tr>\n",
              "      <th>UTAH</th>\n",
              "      <td>287.0</td>\n",
              "    </tr>\n",
              "    <tr>\n",
              "      <th>VERMONT</th>\n",
              "      <td>295.0</td>\n",
              "    </tr>\n",
              "    <tr>\n",
              "      <th>VIRGINIA</th>\n",
              "      <td>290.0</td>\n",
              "    </tr>\n",
              "    <tr>\n",
              "      <th>WASHINGTON</th>\n",
              "      <td>290.0</td>\n",
              "    </tr>\n",
              "    <tr>\n",
              "      <th>WEST_VIRGINIA</th>\n",
              "      <td>274.0</td>\n",
              "    </tr>\n",
              "    <tr>\n",
              "      <th>WISCONSIN</th>\n",
              "      <td>289.0</td>\n",
              "    </tr>\n",
              "    <tr>\n",
              "      <th>WYOMING</th>\n",
              "      <td>289.0</td>\n",
              "    </tr>\n",
              "  </tbody>\n",
              "</table>\n",
              "</div><br><label><b>dtype:</b> float64</label>"
            ]
          },
          "metadata": {},
          "execution_count": 7
        }
      ],
      "source": [
        "# @@@ 4\n",
        "\n",
        "df.groupby(\"STATE\")[\"AVG_MATH_8_SCORE\"].max()"
      ]
    },
    {
      "cell_type": "markdown",
      "metadata": {
        "id": "t8lBFoyxSFXU"
      },
      "source": [
        "*Refer to the `Grouping and Aggregating` section in Tutorial 0 if you are stuck."
      ]
    },
    {
      "cell_type": "markdown",
      "metadata": {
        "id": "-EnSugnKSFXU"
      },
      "source": [
        "<h2> Feature Engineering </h2>\n",
        "\n",
        "After exploring the data, you can choose to modify features that you would use to predict the performance of the students on your chosen response variable.\n",
        "\n",
        "You can also create your own features. For example, perhaps you figured that maybe a state's expenditure per student may affect their overall academic performance so you create a expenditure_per_student feature.\n",
        "\n",
        "Use this space to modify or create features."
      ]
    },
    {
      "cell_type": "code",
      "execution_count": 8,
      "metadata": {
        "id": "U-Oa7fR7SFXU",
        "colab": {
          "base_uri": "https://localhost:8080/",
          "height": 458
        },
        "outputId": "313ee078-5b60-452b-f42d-76c13a9d1e68"
      },
      "outputs": [
        {
          "output_type": "execute_result",
          "data": {
            "text/plain": [
              "0       2.025197\n",
              "1       4.068693\n",
              "2       2.132082\n",
              "3       2.184247\n",
              "4       2.732512\n",
              "          ...   \n",
              "1270    6.949832\n",
              "1271    6.433053\n",
              "1272    6.588286\n",
              "1273    6.663819\n",
              "1274    9.785431\n",
              "Name: Instruction_Expenditure_Per_student, Length: 1275, dtype: float64"
            ],
            "text/html": [
              "<div>\n",
              "<style scoped>\n",
              "    .dataframe tbody tr th:only-of-type {\n",
              "        vertical-align: middle;\n",
              "    }\n",
              "\n",
              "    .dataframe tbody tr th {\n",
              "        vertical-align: top;\n",
              "    }\n",
              "\n",
              "    .dataframe thead th {\n",
              "        text-align: right;\n",
              "    }\n",
              "</style>\n",
              "<table border=\"1\" class=\"dataframe\">\n",
              "  <thead>\n",
              "    <tr style=\"text-align: right;\">\n",
              "      <th></th>\n",
              "      <th>Instruction_Expenditure_Per_student</th>\n",
              "    </tr>\n",
              "  </thead>\n",
              "  <tbody>\n",
              "    <tr>\n",
              "      <th>0</th>\n",
              "      <td>2.025197</td>\n",
              "    </tr>\n",
              "    <tr>\n",
              "      <th>1</th>\n",
              "      <td>4.068693</td>\n",
              "    </tr>\n",
              "    <tr>\n",
              "      <th>2</th>\n",
              "      <td>2.132082</td>\n",
              "    </tr>\n",
              "    <tr>\n",
              "      <th>3</th>\n",
              "      <td>2.184247</td>\n",
              "    </tr>\n",
              "    <tr>\n",
              "      <th>4</th>\n",
              "      <td>2.732512</td>\n",
              "    </tr>\n",
              "    <tr>\n",
              "      <th>...</th>\n",
              "      <td>...</td>\n",
              "    </tr>\n",
              "    <tr>\n",
              "      <th>1270</th>\n",
              "      <td>6.949832</td>\n",
              "    </tr>\n",
              "    <tr>\n",
              "      <th>1271</th>\n",
              "      <td>6.433053</td>\n",
              "    </tr>\n",
              "    <tr>\n",
              "      <th>1272</th>\n",
              "      <td>6.588286</td>\n",
              "    </tr>\n",
              "    <tr>\n",
              "      <th>1273</th>\n",
              "      <td>6.663819</td>\n",
              "    </tr>\n",
              "    <tr>\n",
              "      <th>1274</th>\n",
              "      <td>9.785431</td>\n",
              "    </tr>\n",
              "  </tbody>\n",
              "</table>\n",
              "<p>1275 rows × 1 columns</p>\n",
              "</div><br><label><b>dtype:</b> float64</label>"
            ]
          },
          "metadata": {},
          "execution_count": 8
        }
      ],
      "source": [
        "# @@@ 5\n",
        "# drop missing NA values\n",
        "df.dropna(subset = [\"INSTRUCTION_EXPENDITURE\"],inplace = True)\n",
        "df.dropna(subset = [\"GRADES_ALL_G\"],inplace = True)\n",
        "df[\"Instruction_Expenditure_Per_student\"] = df[\"INSTRUCTION_EXPENDITURE\"] / df[\"GRADES_ALL_G\"]\n",
        "df[\"Instruction_Expenditure_Per_student\"]"
      ]
    },
    {
      "cell_type": "markdown",
      "metadata": {
        "id": "CPAg2-2DSFXU"
      },
      "source": [
        "Feature engineering justification: **<create a new column that represents instruction expenditure per student\\>**"
      ]
    },
    {
      "cell_type": "markdown",
      "metadata": {
        "id": "ba315TIMSFXU"
      },
      "source": [
        "<h2>Visualization</h2>\n",
        "\n",
        "Investigate the relationship between your chosen response variable and at least two predictors using visualizations. Write down your observations.\n",
        "\n",
        "**Visualization 1**"
      ]
    },
    {
      "cell_type": "code",
      "execution_count": 9,
      "metadata": {
        "id": "7W9UuhSASFXU",
        "colab": {
          "base_uri": "https://localhost:8080/",
          "height": 466
        },
        "outputId": "3d48097f-700c-40d2-e4d5-d72024d9839c"
      },
      "outputs": [
        {
          "output_type": "execute_result",
          "data": {
            "text/plain": [
              "Text(0, 0.5, 'Average Math 8 Score')"
            ]
          },
          "metadata": {},
          "execution_count": 9
        },
        {
          "output_type": "display_data",
          "data": {
            "text/plain": [
              "<Figure size 640x480 with 1 Axes>"
            ],
            "image/png": "[encoded data removed]"
          },
          "metadata": {}
        }
      ],
      "source": [
        "# @@@ 6\n",
        "df.plot.scatter(x=\"Instruction_Expenditure_Per_student\",y=\"AVG_MATH_8_SCORE\",alpha = 0.6)\n",
        "plt.xlabel(\"Instruction Expenditure Per Student\")\n",
        "plt.ylabel(\"Average Math 8 Score\")\n"
      ]
    },
    {
      "cell_type": "markdown",
      "metadata": {
        "id": "E2dd1A7gSFXU"
      },
      "source": [
        "**From the scatter plot, we can observe that \"Average Math 8 Score\" tends to increase as \"Instruction Expenditure Per Student\" rises, suggesting a positive relationship between financial investment and student performance. It makes sense, because when spending more financial costs on education, it's more likely to obtain a higher education quality, thus receiving a higher grade. There are some outliers which don't follow the general pattern, possible reasons could be socialeconomic backgrounds of students and different state education policies.**"
      ]
    },
    {
      "cell_type": "markdown",
      "metadata": {
        "id": "VC7wbFHtSFXU"
      },
      "source": [
        "**Visualization 2**"
      ]
    },
    {
      "cell_type": "code",
      "execution_count": 10,
      "metadata": {
        "id": "3m6McPRsSFXV",
        "colab": {
          "base_uri": "https://localhost:8080/",
          "height": 466
        },
        "outputId": "75ef6684-0bc1-4fc5-d88d-ca501b02af77"
      },
      "outputs": [
        {
          "output_type": "execute_result",
          "data": {
            "text/plain": [
              "Text(0, 0.5, 'Average Math 8 Score')"
            ]
          },
          "metadata": {},
          "execution_count": 10
        },
        {
          "output_type": "display_data",
          "data": {
            "text/plain": [
              "<Figure size 640x480 with 1 Axes>"
            ],
            "image/png": "[encoded data removed]"
          },
          "metadata": {}
        }
      ],
      "source": [
        "# @@@ 7\n",
        "df.plot.scatter(x=\"AVG_READING_8_SCORE\",y=\"AVG_MATH_8_SCORE\",alpha = 0.6)\n",
        "plt.xlabel(\"Average Reading 8 Score\")\n",
        "plt.ylabel(\"Average Math 8 Score\")"
      ]
    },
    {
      "cell_type": "markdown",
      "metadata": {
        "id": "xRPGcFF-SFXV"
      },
      "source": [
        "**From the scatter plot, we can observe that the \"Average Math 8 Score\" tends to increase as the \"Average Reading 8 Score\" rises, suggesting a strong positive relationship between reading and math performance. It makes sense, because students who develop stronger reading comprehension skills are often better prepared to understand math problems, which frequently involve word-based contexts. There are some outliers that don’t follow the general pattern, and possible reasons could be differences in teaching emphasis, student demographics, or variations in state-level curriculum standards.**"
      ]
    },
    {
      "cell_type": "markdown",
      "metadata": {
        "id": "91DrDkE8SFXV"
      },
      "source": [
        "<h2> Data Creation </h2>\n",
        "\n",
        "_Use this space to create train/test data_"
      ]
    },
    {
      "cell_type": "code",
      "execution_count": 11,
      "metadata": {
        "id": "4TuqP0W-SFXV"
      },
      "outputs": [],
      "source": [
        "from sklearn.model_selection import train_test_split"
      ]
    },
    {
      "cell_type": "code",
      "execution_count": 12,
      "metadata": {
        "id": "AAFOOs7wSFXV"
      },
      "outputs": [],
      "source": [
        "# @@@ 8\n",
        "\n",
        "X = df[['AVG_READING_8_SCORE','AVG_MATH_4_SCORE','INSTRUCTION_EXPENDITURE']].dropna()\n",
        "y = df.loc[X.index]['AVG_MATH_8_SCORE']\n"
      ]
    },
    {
      "cell_type": "code",
      "execution_count": 13,
      "metadata": {
        "id": "-Z8jQ6EcSFXV"
      },
      "outputs": [],
      "source": [
        "# @@@ 9\n",
        "\n",
        "X_train, X_test, y_train, y_test = train_test_split(\n",
        "      X, y, test_size=0.3, random_state=42)"
      ]
    },
    {
      "cell_type": "markdown",
      "metadata": {
        "id": "Il05w8xfSFXV"
      },
      "source": [
        "<h2> Prediction </h2>"
      ]
    },
    {
      "cell_type": "markdown",
      "metadata": {
        "id": "Wm0GpzULSFXV"
      },
      "source": [
        "ML Models [Resource](https://medium.com/@vijaya.beeravalli/comparison-of-machine-learning-classification-models-for-credit-card-default-data-c3cf805c9a5a)"
      ]
    },
    {
      "cell_type": "code",
      "execution_count": 14,
      "metadata": {
        "id": "1GeUgYcuSFXV"
      },
      "outputs": [],
      "source": [
        "# @@@ 10\n",
        "# import your sklearn class here\n",
        "from sklearn.linear_model import LinearRegression"
      ]
    },
    {
      "cell_type": "code",
      "execution_count": 15,
      "metadata": {
        "id": "TKE3rvY8SFXV"
      },
      "outputs": [],
      "source": [
        "# @@@ 11\n",
        "# create your model here\n",
        "model = LinearRegression()"
      ]
    },
    {
      "cell_type": "code",
      "execution_count": 16,
      "metadata": {
        "id": "YA8n3SzhSFXd",
        "colab": {
          "base_uri": "https://localhost:8080/",
          "height": 80
        },
        "outputId": "b891674e-43a9-44aa-fa68-b57adfd6dd19"
      },
      "outputs": [
        {
          "output_type": "execute_result",
          "data": {
            "text/plain": [
              "LinearRegression()"
            ],
            "text/html": [
              "<style>#sk-container-id-1 {\n",
              "  /* Definition of color scheme common for light and dark mode */\n",
              "  --sklearn-color-text: #000;\n",
              "  --sklearn-color-text-muted: #666;\n",
              "  --sklearn-color-line: gray;\n",
              "  /* Definition of color scheme for unfitted estimators */\n",
              "  --sklearn-color-unfitted-level-0: #fff5e6;\n",
              "  --sklearn-color-unfitted-level-1: #f6e4d2;\n",
              "  --sklearn-color-unfitted-level-2: #ffe0b3;\n",
              "  --sklearn-color-unfitted-level-3: chocolate;\n",
              "  /* Definition of color scheme for fitted estimators */\n",
              "  --sklearn-color-fitted-level-0: #f0f8ff;\n",
              "  --sklearn-color-fitted-level-1: #d4ebff;\n",
              "  --sklearn-color-fitted-level-2: #b3dbfd;\n",
              "  --sklearn-color-fitted-level-3: cornflowerblue;\n",
              "\n",
              "  /* Specific color for light theme */\n",
              "  --sklearn-color-text-on-default-background: var(--sg-text-color, var(--theme-code-foreground, var(--jp-content-font-color1, black)));\n",
              "  --sklearn-color-background: var(--sg-background-color, var(--theme-background, var(--jp-layout-color0, white)));\n",
              "  --sklearn-color-border-box: var(--sg-text-color, var(--theme-code-foreground, var(--jp-content-font-color1, black)));\n",
              "  --sklearn-color-icon: #696969;\n",
              "\n",
              "  @media (prefers-color-scheme: dark) {\n",
              "    /* Redefinition of color scheme for dark theme */\n",
              "    --sklearn-color-text-on-default-background: var(--sg-text-color, var(--theme-code-foreground, var(--jp-content-font-color1, white)));\n",
              "    --sklearn-color-background: var(--sg-background-color, var(--theme-background, var(--jp-layout-color0, #111)));\n",
              "    --sklearn-color-border-box: var(--sg-text-color, var(--theme-code-foreground, var(--jp-content-font-color1, white)));\n",
              "    --sklearn-color-icon: #878787;\n",
              "  }\n",
              "}\n",
              "\n",
              "#sk-container-id-1 {\n",
              "  color: var(--sklearn-color-text);\n",
              "}\n",
              "\n",
              "#sk-container-id-1 pre {\n",
              "  padding: 0;\n",
              "}\n",
              "\n",
              "#sk-container-id-1 input.sk-hidden--visually {\n",
              "  border: 0;\n",
              "  clip: rect(1px 1px 1px 1px);\n",
              "  clip: rect(1px, 1px, 1px, 1px);\n",
              "  height: 1px;\n",
              "  margin: -1px;\n",
              "  overflow: hidden;\n",
              "  padding: 0;\n",
              "  position: absolute;\n",
              "  width: 1px;\n",
              "}\n",
              "\n",
              "#sk-container-id-1 div.sk-dashed-wrapped {\n",
              "  border: 1px dashed var(--sklearn-color-line);\n",
              "  margin: 0 0.4em 0.5em 0.4em;\n",
              "  box-sizing: border-box;\n",
              "  padding-bottom: 0.4em;\n",
              "  background-color: var(--sklearn-color-background);\n",
              "}\n",
              "\n",
              "#sk-container-id-1 div.sk-container {\n",
              "  /* jupyter's `normalize.less` sets `[hidden] { display: none; }`\n",
              "     but bootstrap.min.css set `[hidden] { display: none !important; }`\n",
              "     so we also need the `!important` here to be able to override the\n",
              "     default hidden behavior on the sphinx rendered scikit-learn.org.\n",
              "     See: https://github.com/scikit-learn/scikit-learn/issues/21755 */\n",
              "  display: inline-block !important;\n",
              "  position: relative;\n",
              "}\n",
              "\n",
              "#sk-container-id-1 div.sk-text-repr-fallback {\n",
              "  display: none;\n",
              "}\n",
              "\n",
              "div.sk-parallel-item,\n",
              "div.sk-serial,\n",
              "div.sk-item {\n",
              "  /* draw centered vertical line to link estimators */\n",
              "  background-image: linear-gradient(var(--sklearn-color-text-on-default-background), var(--sklearn-color-text-on-default-background));\n",
              "  background-size: 2px 100%;\n",
              "  background-repeat: no-repeat;\n",
              "  background-position: center center;\n",
              "}\n",
              "\n",
              "/* Parallel-specific style estimator block */\n",
              "\n",
              "#sk-container-id-1 div.sk-parallel-item::after {\n",
              "  content: \"\";\n",
              "  width: 100%;\n",
              "  border-bottom: 2px solid var(--sklearn-color-text-on-default-background);\n",
              "  flex-grow: 1;\n",
              "}\n",
              "\n",
              "#sk-container-id-1 div.sk-parallel {\n",
              "  display: flex;\n",
              "  align-items: stretch;\n",
              "  justify-content: center;\n",
              "  background-color: var(--sklearn-color-background);\n",
              "  position: relative;\n",
              "}\n",
              "\n",
              "#sk-container-id-1 div.sk-parallel-item {\n",
              "  display: flex;\n",
              "  flex-direction: column;\n",
              "}\n",
              "\n",
              "#sk-container-id-1 div.sk-parallel-item:first-child::after {\n",
              "  align-self: flex-end;\n",
              "  width: 50%;\n",
              "}\n",
              "\n",
              "#sk-container-id-1 div.sk-parallel-item:last-child::after {\n",
              "  align-self: flex-start;\n",
              "  width: 50%;\n",
              "}\n",
              "\n",
              "#sk-container-id-1 div.sk-parallel-item:only-child::after {\n",
              "  width: 0;\n",
              "}\n",
              "\n",
              "/* Serial-specific style estimator block */\n",
              "\n",
              "#sk-container-id-1 div.sk-serial {\n",
              "  display: flex;\n",
              "  flex-direction: column;\n",
              "  align-items: center;\n",
              "  background-color: var(--sklearn-color-background);\n",
              "  padding-right: 1em;\n",
              "  padding-left: 1em;\n",
              "}\n",
              "\n",
              "\n",
              "/* Toggleable style: style used for estimator/Pipeline/ColumnTransformer box that is\n",
              "clickable and can be expanded/collapsed.\n",
              "- Pipeline and ColumnTransformer use this feature and define the default style\n",
              "- Estimators will overwrite some part of the style using the `sk-estimator` class\n",
              "*/\n",
              "\n",
              "/* Pipeline and ColumnTransformer style (default) */\n",
              "\n",
              "#sk-container-id-1 div.sk-toggleable {\n",
              "  /* Default theme specific background. It is overwritten whether we have a\n",
              "  specific estimator or a Pipeline/ColumnTransformer */\n",
              "  background-color: var(--sklearn-color-background);\n",
              "}\n",
              "\n",
              "/* Toggleable label */\n",
              "#sk-container-id-1 label.sk-toggleable__label {\n",
              "  cursor: pointer;\n",
              "  display: flex;\n",
              "  width: 100%;\n",
              "  margin-bottom: 0;\n",
              "  padding: 0.5em;\n",
              "  box-sizing: border-box;\n",
              "  text-align: center;\n",
              "  align-items: start;\n",
              "  justify-content: space-between;\n",
              "  gap: 0.5em;\n",
              "}\n",
              "\n",
              "#sk-container-id-1 label.sk-toggleable__label .caption {\n",
              "  font-size: 0.6rem;\n",
              "  font-weight: lighter;\n",
              "  color: var(--sklearn-color-text-muted);\n",
              "}\n",
              "\n",
              "#sk-container-id-1 label.sk-toggleable__label-arrow:before {\n",
              "  /* Arrow on the left of the label */\n",
              "  content: \"▸\";\n",
              "  float: left;\n",
              "  margin-right: 0.25em;\n",
              "  color: var(--sklearn-color-icon);\n",
              "}\n",
              "\n",
              "#sk-container-id-1 label.sk-toggleable__label-arrow:hover:before {\n",
              "  color: var(--sklearn-color-text);\n",
              "}\n",
              "\n",
              "/* Toggleable content - dropdown */\n",
              "\n",
              "#sk-container-id-1 div.sk-toggleable__content {\n",
              "  max-height: 0;\n",
              "  max-width: 0;\n",
              "  overflow: hidden;\n",
              "  text-align: left;\n",
              "  /* unfitted */\n",
              "  background-color: var(--sklearn-color-unfitted-level-0);\n",
              "}\n",
              "\n",
              "#sk-container-id-1 div.sk-toggleable__content.fitted {\n",
              "  /* fitted */\n",
              "  background-color: var(--sklearn-color-fitted-level-0);\n",
              "}\n",
              "\n",
              "#sk-container-id-1 div.sk-toggleable__content pre {\n",
              "  margin: 0.2em;\n",
              "  border-radius: 0.25em;\n",
              "  color: var(--sklearn-color-text);\n",
              "  /* unfitted */\n",
              "  background-color: var(--sklearn-color-unfitted-level-0);\n",
              "}\n",
              "\n",
              "#sk-container-id-1 div.sk-toggleable__content.fitted pre {\n",
              "  /* unfitted */\n",
              "  background-color: var(--sklearn-color-fitted-level-0);\n",
              "}\n",
              "\n",
              "#sk-container-id-1 input.sk-toggleable__control:checked~div.sk-toggleable__content {\n",
              "  /* Expand drop-down */\n",
              "  max-height: 200px;\n",
              "  max-width: 100%;\n",
              "  overflow: auto;\n",
              "}\n",
              "\n",
              "#sk-container-id-1 input.sk-toggleable__control:checked~label.sk-toggleable__label-arrow:before {\n",
              "  content: \"▾\";\n",
              "}\n",
              "\n",
              "/* Pipeline/ColumnTransformer-specific style */\n",
              "\n",
              "#sk-container-id-1 div.sk-label input.sk-toggleable__control:checked~label.sk-toggleable__label {\n",
              "  color: var(--sklearn-color-text);\n",
              "  background-color: var(--sklearn-color-unfitted-level-2);\n",
              "}\n",
              "\n",
              "#sk-container-id-1 div.sk-label.fitted input.sk-toggleable__control:checked~label.sk-toggleable__label {\n",
              "  background-color: var(--sklearn-color-fitted-level-2);\n",
              "}\n",
              "\n",
              "/* Estimator-specific style */\n",
              "\n",
              "/* Colorize estimator box */\n",
              "#sk-container-id-1 div.sk-estimator input.sk-toggleable__control:checked~label.sk-toggleable__label {\n",
              "  /* unfitted */\n",
              "  background-color: var(--sklearn-color-unfitted-level-2);\n",
              "}\n",
              "\n",
              "#sk-container-id-1 div.sk-estimator.fitted input.sk-toggleable__control:checked~label.sk-toggleable__label {\n",
              "  /* fitted */\n",
              "  background-color: var(--sklearn-color-fitted-level-2);\n",
              "}\n",
              "\n",
              "#sk-container-id-1 div.sk-label label.sk-toggleable__label,\n",
              "#sk-container-id-1 div.sk-label label {\n",
              "  /* The background is the default theme color */\n",
              "  color: var(--sklearn-color-text-on-default-background);\n",
              "}\n",
              "\n",
              "/* On hover, darken the color of the background */\n",
              "#sk-container-id-1 div.sk-label:hover label.sk-toggleable__label {\n",
              "  color: var(--sklearn-color-text);\n",
              "  background-color: var(--sklearn-color-unfitted-level-2);\n",
              "}\n",
              "\n",
              "/* Label box, darken color on hover, fitted */\n",
              "#sk-container-id-1 div.sk-label.fitted:hover label.sk-toggleable__label.fitted {\n",
              "  color: var(--sklearn-color-text);\n",
              "  background-color: var(--sklearn-color-fitted-level-2);\n",
              "}\n",
              "\n",
              "/* Estimator label */\n",
              "\n",
              "#sk-container-id-1 div.sk-label label {\n",
              "  font-family: monospace;\n",
              "  font-weight: bold;\n",
              "  display: inline-block;\n",
              "  line-height: 1.2em;\n",
              "}\n",
              "\n",
              "#sk-container-id-1 div.sk-label-container {\n",
              "  text-align: center;\n",
              "}\n",
              "\n",
              "/* Estimator-specific */\n",
              "#sk-container-id-1 div.sk-estimator {\n",
              "  font-family: monospace;\n",
              "  border: 1px dotted var(--sklearn-color-border-box);\n",
              "  border-radius: 0.25em;\n",
              "  box-sizing: border-box;\n",
              "  margin-bottom: 0.5em;\n",
              "  /* unfitted */\n",
              "  background-color: var(--sklearn-color-unfitted-level-0);\n",
              "}\n",
              "\n",
              "#sk-container-id-1 div.sk-estimator.fitted {\n",
              "  /* fitted */\n",
              "  background-color: var(--sklearn-color-fitted-level-0);\n",
              "}\n",
              "\n",
              "/* on hover */\n",
              "#sk-container-id-1 div.sk-estimator:hover {\n",
              "  /* unfitted */\n",
              "  background-color: var(--sklearn-color-unfitted-level-2);\n",
              "}\n",
              "\n",
              "#sk-container-id-1 div.sk-estimator.fitted:hover {\n",
              "  /* fitted */\n",
              "  background-color: var(--sklearn-color-fitted-level-2);\n",
              "}\n",
              "\n",
              "/* Specification for estimator info (e.g. \"i\" and \"?\") */\n",
              "\n",
              "/* Common style for \"i\" and \"?\" */\n",
              "\n",
              ".sk-estimator-doc-link,\n",
              "a:link.sk-estimator-doc-link,\n",
              "a:visited.sk-estimator-doc-link {\n",
              "  float: right;\n",
              "  font-size: smaller;\n",
              "  line-height: 1em;\n",
              "  font-family: monospace;\n",
              "  background-color: var(--sklearn-color-background);\n",
              "  border-radius: 1em;\n",
              "  height: 1em;\n",
              "  width: 1em;\n",
              "  text-decoration: none !important;\n",
              "  margin-left: 0.5em;\n",
              "  text-align: center;\n",
              "  /* unfitted */\n",
              "  border: var(--sklearn-color-unfitted-level-1) 1pt solid;\n",
              "  color: var(--sklearn-color-unfitted-level-1);\n",
              "}\n",
              "\n",
              ".sk-estimator-doc-link.fitted,\n",
              "a:link.sk-estimator-doc-link.fitted,\n",
              "a:visited.sk-estimator-doc-link.fitted {\n",
              "  /* fitted */\n",
              "  border: var(--sklearn-color-fitted-level-1) 1pt solid;\n",
              "  color: var(--sklearn-color-fitted-level-1);\n",
              "}\n",
              "\n",
              "/* On hover */\n",
              "div.sk-estimator:hover .sk-estimator-doc-link:hover,\n",
              ".sk-estimator-doc-link:hover,\n",
              "div.sk-label-container:hover .sk-estimator-doc-link:hover,\n",
              ".sk-estimator-doc-link:hover {\n",
              "  /* unfitted */\n",
              "  background-color: var(--sklearn-color-unfitted-level-3);\n",
              "  color: var(--sklearn-color-background);\n",
              "  text-decoration: none;\n",
              "}\n",
              "\n",
              "div.sk-estimator.fitted:hover .sk-estimator-doc-link.fitted:hover,\n",
              ".sk-estimator-doc-link.fitted:hover,\n",
              "div.sk-label-container:hover .sk-estimator-doc-link.fitted:hover,\n",
              ".sk-estimator-doc-link.fitted:hover {\n",
              "  /* fitted */\n",
              "  background-color: var(--sklearn-color-fitted-level-3);\n",
              "  color: var(--sklearn-color-background);\n",
              "  text-decoration: none;\n",
              "}\n",
              "\n",
              "/* Span, style for the box shown on hovering the info icon */\n",
              ".sk-estimator-doc-link span {\n",
              "  display: none;\n",
              "  z-index: 9999;\n",
              "  position: relative;\n",
              "  font-weight: normal;\n",
              "  right: .2ex;\n",
              "  padding: .5ex;\n",
              "  margin: .5ex;\n",
              "  width: min-content;\n",
              "  min-width: 20ex;\n",
              "  max-width: 50ex;\n",
              "  color: var(--sklearn-color-text);\n",
              "  box-shadow: 2pt 2pt 4pt #999;\n",
              "  /* unfitted */\n",
              "  background: var(--sklearn-color-unfitted-level-0);\n",
              "  border: .5pt solid var(--sklearn-color-unfitted-level-3);\n",
              "}\n",
              "\n",
              ".sk-estimator-doc-link.fitted span {\n",
              "  /* fitted */\n",
              "  background: var(--sklearn-color-fitted-level-0);\n",
              "  border: var(--sklearn-color-fitted-level-3);\n",
              "}\n",
              "\n",
              ".sk-estimator-doc-link:hover span {\n",
              "  display: block;\n",
              "}\n",
              "\n",
              "/* \"?\"-specific style due to the `<a>` HTML tag */\n",
              "\n",
              "#sk-container-id-1 a.estimator_doc_link {\n",
              "  float: right;\n",
              "  font-size: 1rem;\n",
              "  line-height: 1em;\n",
              "  font-family: monospace;\n",
              "  background-color: var(--sklearn-color-background);\n",
              "  border-radius: 1rem;\n",
              "  height: 1rem;\n",
              "  width: 1rem;\n",
              "  text-decoration: none;\n",
              "  /* unfitted */\n",
              "  color: var(--sklearn-color-unfitted-level-1);\n",
              "  border: var(--sklearn-color-unfitted-level-1) 1pt solid;\n",
              "}\n",
              "\n",
              "#sk-container-id-1 a.estimator_doc_link.fitted {\n",
              "  /* fitted */\n",
              "  border: var(--sklearn-color-fitted-level-1) 1pt solid;\n",
              "  color: var(--sklearn-color-fitted-level-1);\n",
              "}\n",
              "\n",
              "/* On hover */\n",
              "#sk-container-id-1 a.estimator_doc_link:hover {\n",
              "  /* unfitted */\n",
              "  background-color: var(--sklearn-color-unfitted-level-3);\n",
              "  color: var(--sklearn-color-background);\n",
              "  text-decoration: none;\n",
              "}\n",
              "\n",
              "#sk-container-id-1 a.estimator_doc_link.fitted:hover {\n",
              "  /* fitted */\n",
              "  background-color: var(--sklearn-color-fitted-level-3);\n",
              "}\n",
              "</style><div id=\"sk-container-id-1\" class=\"sk-top-container\"><div class=\"sk-text-repr-fallback\"><pre>LinearRegression()</pre><b>In a Jupyter environment, please rerun this cell to show the HTML representation or trust the notebook. <br />On GitHub, the HTML representation is unable to render, please try loading this page with nbviewer.org.</b></div><div class=\"sk-container\" hidden><div class=\"sk-item\"><div class=\"sk-estimator fitted sk-toggleable\"><input class=\"sk-toggleable__control sk-hidden--visually\" id=\"sk-estimator-id-1\" type=\"checkbox\" checked><label for=\"sk-estimator-id-1\" class=\"sk-toggleable__label fitted sk-toggleable__label-arrow\"><div><div>LinearRegression</div></div><div><a class=\"sk-estimator-doc-link fitted\" rel=\"noreferrer\" target=\"_blank\" href=\"https://scikit-learn.org/1.6/modules/generated/sklearn.linear_model.LinearRegression.html\">?<span>Documentation for LinearRegression</span></a><span class=\"sk-estimator-doc-link fitted\">i<span>Fitted</span></span></div></label><div class=\"sk-toggleable__content fitted\"><pre>LinearRegression()</pre></div> </div></div></div></div>"
            ]
          },
          "metadata": {},
          "execution_count": 16
        }
      ],
      "source": [
        "model.fit(X_train, y_train)"
      ]
    },
    {
      "cell_type": "code",
      "execution_count": 17,
      "metadata": {
        "id": "d7VyKu-1SFXd",
        "colab": {
          "base_uri": "https://localhost:8080/",
          "height": 0
        },
        "outputId": "d4b72451-640c-4457-c7b3-05d59f5d7819"
      },
      "outputs": [
        {
          "output_type": "execute_result",
          "data": {
            "text/plain": [
              "array([270.88034312, 270.21182698, 280.38714192, 293.20600267,\n",
              "       281.93088874, 294.45782345, 282.73855629, 283.62869173,\n",
              "       285.46803894, 278.61345281, 263.65948234, 279.38961662,\n",
              "       273.0654448 , 289.15625024, 277.43569461, 266.09508807,\n",
              "       284.43794414, 284.21306317, 280.23269519, 287.38411051,\n",
              "       287.15595434, 288.1253257 , 277.88200859, 282.59790658,\n",
              "       293.87445335, 285.61765556, 291.21582228, 284.43626817,\n",
              "       280.00866535, 279.12853522, 282.66286503, 274.11806166,\n",
              "       286.92913265, 286.64528592, 271.03740435, 273.23414866,\n",
              "       279.19779388, 287.45359558, 280.5262449 , 275.44741522,\n",
              "       282.95853241, 283.46880812, 276.33869175, 285.91034868,\n",
              "       270.55906675, 283.69657337, 267.54349976, 280.52429182,\n",
              "       287.23533683, 290.91805537, 280.96494257, 293.70839951,\n",
              "       283.15022403, 282.22442105, 277.88082935, 282.86181042,\n",
              "       270.95133761, 285.84075565, 278.97900947, 285.91265102,\n",
              "       283.63168377, 283.47303949, 288.70755663, 285.4679831 ,\n",
              "       292.4623482 , 279.8004769 , 281.19504875, 283.18456072,\n",
              "       288.19596372, 273.67720986, 289.22541504, 274.70609008,\n",
              "       286.94202736, 287.67967873, 286.35348265, 265.87229122,\n",
              "       273.38580319, 289.51709907, 284.66019899, 283.69918016,\n",
              "       291.87316165, 279.7201135 , 283.60987629, 286.13706259,\n",
              "       278.16699335, 286.78430634, 284.88233639, 285.39605628,\n",
              "       284.14660204, 285.98237863, 277.29060958, 283.40860128,\n",
              "       277.66044775, 251.13497572, 278.17452279, 291.88029977,\n",
              "       275.06858466, 282.06855546, 264.98047837, 286.42896033,\n",
              "       275.154583  , 291.94139375, 285.68737043, 287.89540819,\n",
              "       271.68673703, 288.19539525, 288.85754523, 285.69096865])"
            ]
          },
          "metadata": {},
          "execution_count": 17
        }
      ],
      "source": [
        "y_pred = model.predict(X_test)\n",
        "y_pred"
      ]
    },
    {
      "cell_type": "markdown",
      "metadata": {
        "id": "dBq2NQfiSFXd"
      },
      "source": [
        "## Evaluation"
      ]
    },
    {
      "cell_type": "markdown",
      "metadata": {
        "id": "T5KBc8cESFXd"
      },
      "source": [
        "Choose some metrics to evaluate the performance of your model, some of them are mentioned in the tutorial."
      ]
    },
    {
      "cell_type": "code",
      "execution_count": 24,
      "metadata": {
        "id": "ijDH7OfESFXd",
        "colab": {
          "base_uri": "https://localhost:8080/"
        },
        "outputId": "ac471216-f6f1-420a-ef09-e07809de9e79"
      },
      "outputs": [
        {
          "output_type": "stream",
          "name": "stdout",
          "text": [
            "-30.805781897077566\n",
            "[ 5.14763779e-01  7.37771722e-01 -9.38488398e-10]\n",
            "0.922113713688329\n",
            "0.5764420995265012\n",
            "1.77415968768366\n",
            "2.243966236046215\n"
          ]
        }
      ],
      "source": [
        "# @@@ 12\n",
        "# The intercepts and coefficients the model generates\n",
        "print(model.intercept_)\n",
        "print(model.coef_)\n",
        "\n",
        "# R^2 value\n",
        "print(model.score(X_test, y_test))\n",
        "# We output a R^2 value of 0.922, which is close to 1, suggestung a good fit of our linear model to the data.\n",
        "\n",
        "# mean error\n",
        "print(np.mean(model.predict(X_test)-y_test))\n",
        "\n",
        "# mean absolute error\n",
        "print(np.mean(np.abs(model.predict(X_test)-y_test)))\n",
        "\n",
        "# sqaured error\n",
        "# root mean squared error -- penalizes large errors\n",
        "print(np.mean((model.predict(X_test)-y_test)**2)**0.5)"
      ]
    },
    {
      "cell_type": "markdown",
      "metadata": {
        "id": "0LyNldQASFXd"
      },
      "source": [
        "We have copied over the graphs that visualize the model's performance on the training and testing set.\n",
        "\n",
        "Change `col_name` and modify the call to `plt.ylabel()` to isolate how a single predictor affects the model."
      ]
    },
    {
      "cell_type": "code",
      "execution_count": 20,
      "metadata": {
        "id": "QQdY1GPxSFXd",
        "colab": {
          "base_uri": "https://localhost:8080/",
          "height": 581
        },
        "outputId": "d571c06e-8187-4911-e112-f1ad4a981fc5"
      },
      "outputs": [
        {
          "output_type": "execute_result",
          "data": {
            "text/plain": [
              "Text(0.5, 1.0, 'Model Behavior On Training Set')"
            ]
          },
          "metadata": {},
          "execution_count": 20
        },
        {
          "output_type": "display_data",
          "data": {
            "text/plain": [
              "<Figure size 1200x600 with 1 Axes>"
            ],
            "image/png": "[encoded data removed]"
          },
          "metadata": {}
        }
      ],
      "source": [
        "# @@@ 13\n",
        "\n",
        "col_name = 'AVG_READING_8_SCORE'\n",
        "\n",
        "\n",
        "f = plt.figure(figsize=(12,6))\n",
        "plt.scatter(X_train[\"AVG_READING_8_SCORE\"], y_train, color = \"red\")\n",
        "plt.scatter(X_train[\"AVG_READING_8_SCORE\"], model.predict(X_train), color = \"green\")\n",
        "\n",
        "plt.legend(['True Training','Predicted Training'])\n",
        "plt.xlabel(\"AVG_READING_8_SCOR\")\n",
        "plt.ylabel(\"AVG_MATH_8_SCORE\")\n",
        "plt.title(\"Model Behavior On Training Set\")"
      ]
    },
    {
      "cell_type": "code",
      "execution_count": 21,
      "metadata": {
        "id": "13l9Z7WdSFXe",
        "colab": {
          "base_uri": "https://localhost:8080/",
          "height": 581
        },
        "outputId": "06d10523-a32a-4195-f0bd-a8da74ff50b8"
      },
      "outputs": [
        {
          "output_type": "execute_result",
          "data": {
            "text/plain": [
              "Text(0.5, 1.0, 'Model Behavior on Testing Set')"
            ]
          },
          "metadata": {},
          "execution_count": 21
        },
        {
          "output_type": "display_data",
          "data": {
            "text/plain": [
              "<Figure size 1200x600 with 1 Axes>"
            ],
            "image/png": "[encoded data removed]"
          },
          "metadata": {}
        }
      ],
      "source": [
        "# @@@ 14\n",
        "\n",
        "\n",
        "col_name = 'AVG_MATH_4_SCORE'\n",
        "\n",
        "\n",
        "f = plt.figure(figsize=(12,6))\n",
        "plt.scatter(X_test['AVG_MATH_4_SCORE'], y_test, color = \"blue\")\n",
        "plt.scatter(X_test['AVG_MATH_4_SCORE'], model.predict(X_test), color = \"black\")\n",
        "\n",
        "plt.legend(['True testing','Predicted testing'])\n",
        "plt.xlabel('AVG_MATH_4_SCORE')\n",
        "plt.ylabel('AVG_MATH_8_SCORE')\n",
        "plt.title(\"Model Behavior on Testing Set\")"
      ]
    }
  ],
  "metadata": {
    "kernelspec": {
      "display_name": "Python 3.9.0 64-bit",
      "language": "python",
      "name": "python3"
    },
    "language_info": {
      "codemirror_mode": {
        "name": "ipython",
        "version": 3
      },
      "file_extension": ".py",
      "mimetype": "text/x-python",
      "name": "python",
      "nbconvert_exporter": "python",
      "pygments_lexer": "ipython3",
      "version": "3.9.0"
    },
    "vscode": {
      "interpreter": {
        "hash": "6cf8df3ff69f85f626faf55c10df6fe2cb9d1236b4dc73844ee4dc01369c2c99"
      }
    },
    "colab": {
      "provenance": []
    }
  },
  "nbformat": 4,
  "nbformat_minor": 0
}